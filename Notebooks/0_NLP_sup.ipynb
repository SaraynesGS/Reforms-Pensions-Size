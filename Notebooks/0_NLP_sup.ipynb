{
 "cells": [
  {
   "cell_type": "markdown",
   "metadata": {},
   "source": [
    "<h1 style=\"color: #210e9c;\">Final Project: <br> Pension Funds and reforms<br>OECD countries 2005-2020</h1>\n"
   ]
  },
  {
   "cell_type": "markdown",
   "metadata": {},
   "source": [
    "**TF-IDF** stands for Term Frequency-Inverse Document Frequency. It’s a numerical statistic used to evaluate the importance of a word in a document relative to a collection (or corpus) of documents"
   ]
  },
  {
   "cell_type": "markdown",
   "metadata": {},
   "source": [
    "# Step 1: Setup - Importing libraries"
   ]
  },
  {
   "cell_type": "code",
   "execution_count": 1,
   "metadata": {},
   "outputs": [
    {
     "name": "stderr",
     "output_type": "stream",
     "text": [
      "[nltk_data] Downloading package punkt to\n",
      "[nltk_data]     /Users/saraynes.gs/nltk_data...\n",
      "[nltk_data]   Package punkt is already up-to-date!\n",
      "[nltk_data] Downloading package averaged_perceptron_tagger to\n",
      "[nltk_data]     /Users/saraynes.gs/nltk_data...\n",
      "[nltk_data]   Package averaged_perceptron_tagger is already up-to-\n",
      "[nltk_data]       date!\n",
      "[nltk_data] Downloading package wordnet to\n",
      "[nltk_data]     /Users/saraynes.gs/nltk_data...\n",
      "[nltk_data]   Package wordnet is already up-to-date!\n",
      "[nltk_data] Downloading package stopwords to\n",
      "[nltk_data]     /Users/saraynes.gs/nltk_data...\n",
      "[nltk_data]   Package stopwords is already up-to-date!\n",
      "[nltk_data] Downloading package omw-1.4 to\n",
      "[nltk_data]     /Users/saraynes.gs/nltk_data...\n",
      "[nltk_data]   Package omw-1.4 is already up-to-date!\n"
     ]
    }
   ],
   "source": [
    "import pandas as pd\n",
    "import numpy as np\n",
    "import warnings\n",
    "\n",
    "# 📊 Visualizations\n",
    "import matplotlib.pyplot as plt\n",
    "import seaborn as sns\n",
    "import plotly as px\n",
    "from wordcloud import WordCloud\n",
    "\n",
    "#for text pre-processing\n",
    "import re, string\n",
    "import nltk\n",
    "from nltk.tokenize import word_tokenize\n",
    "from nltk.corpus import stopwords\n",
    "from nltk.tokenize import word_tokenize\n",
    "from nltk.stem import SnowballStemmer\n",
    "from nltk.corpus import wordnet\n",
    "from nltk.stem import WordNetLemmatizer\n",
    "nltk.download('punkt')\n",
    "nltk.download('averaged_perceptron_tagger')\n",
    "nltk.download('wordnet')\n",
    "nltk.download('stopwords')\n",
    "nltk.download('omw-1.4')\n",
    "\n",
    "#for model-building\n",
    "from sklearn.model_selection import train_test_split\n",
    "from sklearn.linear_model import LogisticRegression\n",
    "from sklearn.naive_bayes import MultinomialNB\n",
    "from sklearn.metrics import classification_report, f1_score, accuracy_score, confusion_matrix\n",
    "from sklearn.metrics import roc_curve, auc, roc_auc_score\n",
    "from sklearn.ensemble import RandomForestClassifier\n",
    "\n",
    "\n",
    "# Text Processing (bag of words)\n",
    "from sklearn.feature_extraction.text import TfidfVectorizer\n",
    "from sklearn.feature_extraction.text import CountVectorizer\n",
    "\n",
    "#for word embedding\n",
    "import gensim.downloader as gensim_api \n",
    "import gensim \n",
    "from gensim.models import Word2Vec\n",
    "\n",
    "# Pipeline & GridSearch\n",
    "from sklearn.pipeline import Pipeline\n",
    "from sklearn.model_selection import GridSearchCV"
   ]
  },
  {
   "cell_type": "code",
   "execution_count": 2,
   "metadata": {},
   "outputs": [],
   "source": [
    "# ⚙️ Settings\n",
    "pd.set_option('display.max_columns', None) # display all columns\n",
    "warnings.filterwarnings('ignore') # ignore warnings"
   ]
  },
  {
   "cell_type": "markdown",
   "metadata": {},
   "source": [
    "# Step 2: Loading the data set and Exploratory Data Analysis"
   ]
  },
  {
   "cell_type": "markdown",
   "metadata": {},
   "source": [
    "## Loading the Data"
   ]
  },
  {
   "cell_type": "code",
   "execution_count": 3,
   "metadata": {},
   "outputs": [],
   "source": [
    "df = pd.read_csv(\"../Data/data.csv\", sep=\";\")"
   ]
  },
  {
   "cell_type": "code",
   "execution_count": 4,
   "metadata": {},
   "outputs": [
    {
     "name": "stdout",
     "output_type": "stream",
     "text": [
      "(688, 9)\n"
     ]
    },
    {
     "data": {
      "text/html": [
       "<div>\n",
       "<style scoped>\n",
       "    .dataframe tbody tr th:only-of-type {\n",
       "        vertical-align: middle;\n",
       "    }\n",
       "\n",
       "    .dataframe tbody tr th {\n",
       "        vertical-align: top;\n",
       "    }\n",
       "\n",
       "    .dataframe thead th {\n",
       "        text-align: right;\n",
       "    }\n",
       "</style>\n",
       "<table border=\"1\" class=\"dataframe\">\n",
       "  <thead>\n",
       "    <tr style=\"text-align: right;\">\n",
       "      <th></th>\n",
       "      <th>Country</th>\n",
       "      <th>Year</th>\n",
       "      <th>Year-Country</th>\n",
       "      <th>Information type</th>\n",
       "      <th>OECD Private Pensions outlook</th>\n",
       "      <th>OECD Pensions @Glance</th>\n",
       "      <th>Text</th>\n",
       "      <th>Expanding measures</th>\n",
       "      <th>Contracting measures</th>\n",
       "    </tr>\n",
       "  </thead>\n",
       "  <tbody>\n",
       "    <tr>\n",
       "      <th>0</th>\n",
       "      <td>Switzerland</td>\n",
       "      <td>1946.0</td>\n",
       "      <td>1946-Switzerland</td>\n",
       "      <td>Benefits</td>\n",
       "      <td>NaN</td>\n",
       "      <td>_</td>\n",
       "      <td>Federal Law of 20 December on old-age and surv...</td>\n",
       "      <td>1</td>\n",
       "      <td>NaN</td>\n",
       "    </tr>\n",
       "    <tr>\n",
       "      <th>1</th>\n",
       "      <td>Luxembourg</td>\n",
       "      <td>1967.0</td>\n",
       "      <td>1967-Luxembourg</td>\n",
       "      <td>Taxes</td>\n",
       "      <td>NaN</td>\n",
       "      <td>_</td>\n",
       "      <td>Article 111bis of the amended Law on Revenue T...</td>\n",
       "      <td>NaN</td>\n",
       "      <td>1.0</td>\n",
       "    </tr>\n",
       "    <tr>\n",
       "      <th>2</th>\n",
       "      <td>Germany</td>\n",
       "      <td>1974.0</td>\n",
       "      <td>1974-Germany</td>\n",
       "      <td>Coverage</td>\n",
       "      <td>NaN</td>\n",
       "      <td>_</td>\n",
       "      <td>The Gesetz zur Verbesserung der betrieblichen ...</td>\n",
       "      <td>1</td>\n",
       "      <td>NaN</td>\n",
       "    </tr>\n",
       "    <tr>\n",
       "      <th>3</th>\n",
       "      <td>Iceland</td>\n",
       "      <td>1974.0</td>\n",
       "      <td>1974-Iceland</td>\n",
       "      <td>Coverage</td>\n",
       "      <td>NaN</td>\n",
       "      <td>Base - Occupational mandatory_Overview</td>\n",
       "      <td>The mandatory pension fund system was introduc...</td>\n",
       "      <td>1</td>\n",
       "      <td>NaN</td>\n",
       "    </tr>\n",
       "    <tr>\n",
       "      <th>4</th>\n",
       "      <td>United States</td>\n",
       "      <td>1974.0</td>\n",
       "      <td>1974-United States</td>\n",
       "      <td>Coverage</td>\n",
       "      <td>NaN</td>\n",
       "      <td>NaN</td>\n",
       "      <td>The Employee Retirement Income Security Act (E...</td>\n",
       "      <td>1</td>\n",
       "      <td>NaN</td>\n",
       "    </tr>\n",
       "  </tbody>\n",
       "</table>\n",
       "</div>"
      ],
      "text/plain": [
       "         Country    Year        Year-Country Information type  \\\n",
       "0    Switzerland  1946.0    1946-Switzerland         Benefits   \n",
       "1     Luxembourg  1967.0     1967-Luxembourg            Taxes   \n",
       "2        Germany  1974.0        1974-Germany         Coverage   \n",
       "3        Iceland  1974.0        1974-Iceland         Coverage   \n",
       "4  United States  1974.0  1974-United States         Coverage   \n",
       "\n",
       "  OECD Private Pensions outlook                   OECD Pensions @Glance  \\\n",
       "0                           NaN                                       _   \n",
       "1                           NaN                                       _   \n",
       "2                           NaN                                       _   \n",
       "3                           NaN  Base - Occupational mandatory_Overview   \n",
       "4                           NaN                                     NaN   \n",
       "\n",
       "                                                Text Expanding measures  \\\n",
       "0  Federal Law of 20 December on old-age and surv...                  1   \n",
       "1  Article 111bis of the amended Law on Revenue T...                NaN   \n",
       "2  The Gesetz zur Verbesserung der betrieblichen ...                  1   \n",
       "3  The mandatory pension fund system was introduc...                  1   \n",
       "4  The Employee Retirement Income Security Act (E...                  1   \n",
       "\n",
       "   Contracting measures  \n",
       "0                   NaN  \n",
       "1                   1.0  \n",
       "2                   NaN  \n",
       "3                   NaN  \n",
       "4                   NaN  "
      ]
     },
     "execution_count": 4,
     "metadata": {},
     "output_type": "execute_result"
    }
   ],
   "source": [
    "print(df.shape)\n",
    "df.head()"
   ]
  },
  {
   "cell_type": "markdown",
   "metadata": {},
   "source": [
    "### Best practices"
   ]
  },
  {
   "cell_type": "markdown",
   "metadata": {},
   "source": [
    "#### Rename columns"
   ]
  },
  {
   "cell_type": "code",
   "execution_count": 5,
   "metadata": {},
   "outputs": [],
   "source": [
    "df.columns = df.columns.str.lower().str.replace(\" \", \"_\")"
   ]
  },
  {
   "cell_type": "code",
   "execution_count": 6,
   "metadata": {},
   "outputs": [
    {
     "data": {
      "text/html": [
       "<div>\n",
       "<style scoped>\n",
       "    .dataframe tbody tr th:only-of-type {\n",
       "        vertical-align: middle;\n",
       "    }\n",
       "\n",
       "    .dataframe tbody tr th {\n",
       "        vertical-align: top;\n",
       "    }\n",
       "\n",
       "    .dataframe thead th {\n",
       "        text-align: right;\n",
       "    }\n",
       "</style>\n",
       "<table border=\"1\" class=\"dataframe\">\n",
       "  <thead>\n",
       "    <tr style=\"text-align: right;\">\n",
       "      <th></th>\n",
       "      <th>country</th>\n",
       "      <th>year</th>\n",
       "      <th>year-country</th>\n",
       "      <th>information_type</th>\n",
       "      <th>oecd_private_pensions_outlook</th>\n",
       "      <th>oecd_pensions_@glance</th>\n",
       "      <th>text</th>\n",
       "      <th>expanding_measures</th>\n",
       "      <th>contracting_measures</th>\n",
       "    </tr>\n",
       "  </thead>\n",
       "  <tbody>\n",
       "    <tr>\n",
       "      <th>0</th>\n",
       "      <td>Switzerland</td>\n",
       "      <td>1946.0</td>\n",
       "      <td>1946-Switzerland</td>\n",
       "      <td>Benefits</td>\n",
       "      <td>NaN</td>\n",
       "      <td>_</td>\n",
       "      <td>Federal Law of 20 December on old-age and surv...</td>\n",
       "      <td>1</td>\n",
       "      <td>NaN</td>\n",
       "    </tr>\n",
       "    <tr>\n",
       "      <th>1</th>\n",
       "      <td>Luxembourg</td>\n",
       "      <td>1967.0</td>\n",
       "      <td>1967-Luxembourg</td>\n",
       "      <td>Taxes</td>\n",
       "      <td>NaN</td>\n",
       "      <td>_</td>\n",
       "      <td>Article 111bis of the amended Law on Revenue T...</td>\n",
       "      <td>NaN</td>\n",
       "      <td>1.0</td>\n",
       "    </tr>\n",
       "    <tr>\n",
       "      <th>2</th>\n",
       "      <td>Germany</td>\n",
       "      <td>1974.0</td>\n",
       "      <td>1974-Germany</td>\n",
       "      <td>Coverage</td>\n",
       "      <td>NaN</td>\n",
       "      <td>_</td>\n",
       "      <td>The Gesetz zur Verbesserung der betrieblichen ...</td>\n",
       "      <td>1</td>\n",
       "      <td>NaN</td>\n",
       "    </tr>\n",
       "    <tr>\n",
       "      <th>3</th>\n",
       "      <td>Iceland</td>\n",
       "      <td>1974.0</td>\n",
       "      <td>1974-Iceland</td>\n",
       "      <td>Coverage</td>\n",
       "      <td>NaN</td>\n",
       "      <td>Base - Occupational mandatory_Overview</td>\n",
       "      <td>The mandatory pension fund system was introduc...</td>\n",
       "      <td>1</td>\n",
       "      <td>NaN</td>\n",
       "    </tr>\n",
       "    <tr>\n",
       "      <th>4</th>\n",
       "      <td>United States</td>\n",
       "      <td>1974.0</td>\n",
       "      <td>1974-United States</td>\n",
       "      <td>Coverage</td>\n",
       "      <td>NaN</td>\n",
       "      <td>NaN</td>\n",
       "      <td>The Employee Retirement Income Security Act (E...</td>\n",
       "      <td>1</td>\n",
       "      <td>NaN</td>\n",
       "    </tr>\n",
       "  </tbody>\n",
       "</table>\n",
       "</div>"
      ],
      "text/plain": [
       "         country    year        year-country information_type  \\\n",
       "0    Switzerland  1946.0    1946-Switzerland         Benefits   \n",
       "1     Luxembourg  1967.0     1967-Luxembourg            Taxes   \n",
       "2        Germany  1974.0        1974-Germany         Coverage   \n",
       "3        Iceland  1974.0        1974-Iceland         Coverage   \n",
       "4  United States  1974.0  1974-United States         Coverage   \n",
       "\n",
       "  oecd_private_pensions_outlook                   oecd_pensions_@glance  \\\n",
       "0                           NaN                                       _   \n",
       "1                           NaN                                       _   \n",
       "2                           NaN                                       _   \n",
       "3                           NaN  Base - Occupational mandatory_Overview   \n",
       "4                           NaN                                     NaN   \n",
       "\n",
       "                                                text expanding_measures  \\\n",
       "0  Federal Law of 20 December on old-age and surv...                  1   \n",
       "1  Article 111bis of the amended Law on Revenue T...                NaN   \n",
       "2  The Gesetz zur Verbesserung der betrieblichen ...                  1   \n",
       "3  The mandatory pension fund system was introduc...                  1   \n",
       "4  The Employee Retirement Income Security Act (E...                  1   \n",
       "\n",
       "   contracting_measures  \n",
       "0                   NaN  \n",
       "1                   1.0  \n",
       "2                   NaN  \n",
       "3                   NaN  \n",
       "4                   NaN  "
      ]
     },
     "execution_count": 6,
     "metadata": {},
     "output_type": "execute_result"
    }
   ],
   "source": [
    "df.head()"
   ]
  },
  {
   "cell_type": "markdown",
   "metadata": {},
   "source": [
    "#### Copy data"
   ]
  },
  {
   "cell_type": "code",
   "execution_count": 7,
   "metadata": {},
   "outputs": [],
   "source": [
    "data = df.copy() # make a copy of the data   "
   ]
  },
  {
   "cell_type": "markdown",
   "metadata": {},
   "source": [
    "#### NaN values"
   ]
  },
  {
   "cell_type": "code",
   "execution_count": 8,
   "metadata": {},
   "outputs": [
    {
     "data": {
      "text/plain": [
       "country                            0\n",
       "year                             241\n",
       "year-country                       0\n",
       "information_type                 242\n",
       "oecd_private_pensions_outlook    449\n",
       "oecd_pensions_@glance            208\n",
       "text                               0\n",
       "expanding_measures               344\n",
       "contracting_measures             568\n",
       "dtype: int64"
      ]
     },
     "execution_count": 8,
     "metadata": {},
     "output_type": "execute_result"
    }
   ],
   "source": [
    "data.isnull().sum()"
   ]
  },
  {
   "cell_type": "code",
   "execution_count": 9,
   "metadata": {},
   "outputs": [],
   "source": [
    "# \"oecd_private_pensions_outlook\", \"oecd_pensions_@glance\" columns describe the source of the data, not the data itself\n",
    "data = data.drop(columns=[\"oecd_private_pensions_outlook\", \"oecd_pensions_@glance\"])"
   ]
  },
  {
   "cell_type": "code",
   "execution_count": 10,
   "metadata": {},
   "outputs": [],
   "source": [
    "# \"expanding_measures\" and \"contracting_measures\" took place 1 if there is a measure and 0 if there is no measure\n",
    "data['expanding_measures'] = data['expanding_measures'].replace(np.nan, 0)\n",
    "data['contracting_measures'] = data['contracting_measures'].replace(np.nan, 0)\n"
   ]
  },
  {
   "cell_type": "code",
   "execution_count": 11,
   "metadata": {},
   "outputs": [],
   "source": [
    "# \"year\" does is empty when it collects descriptions of the pension system, not reforms\n",
    "data.dropna(subset=['year', 'information_type'], inplace=True)"
   ]
  },
  {
   "cell_type": "markdown",
   "metadata": {},
   "source": [
    "#### Duplicates, and empty spaces"
   ]
  },
  {
   "cell_type": "code",
   "execution_count": 12,
   "metadata": {},
   "outputs": [
    {
     "data": {
      "text/plain": [
       "0"
      ]
     },
     "execution_count": 12,
     "metadata": {},
     "output_type": "execute_result"
    }
   ],
   "source": [
    "data.duplicated().sum()"
   ]
  },
  {
   "cell_type": "code",
   "execution_count": 13,
   "metadata": {},
   "outputs": [
    {
     "data": {
      "text/plain": [
       "country                 0\n",
       "year                    0\n",
       "year-country            0\n",
       "information_type        0\n",
       "text                    0\n",
       "expanding_measures      0\n",
       "contracting_measures    0\n",
       "dtype: int64"
      ]
     },
     "execution_count": 13,
     "metadata": {},
     "output_type": "execute_result"
    }
   ],
   "source": [
    "data.eq(\" \").sum()"
   ]
  },
  {
   "cell_type": "markdown",
   "metadata": {},
   "source": [
    "## Exploratory Data Analysis (EDA)"
   ]
  },
  {
   "cell_type": "code",
   "execution_count": 14,
   "metadata": {},
   "outputs": [],
   "source": [
    "data.information_type[data.information_type==\"Fee\"] = \"Fees\""
   ]
  },
  {
   "cell_type": "markdown",
   "metadata": {},
   "source": [
    "1. Class distribution:"
   ]
  },
  {
   "cell_type": "code",
   "execution_count": 15,
   "metadata": {},
   "outputs": [],
   "source": [
    "label_count = data[\"information_type\"].value_counts().sort_index(ascending=False)\n",
    "labels = label_count.index\n",
    "sizes = label_count.values"
   ]
  },
  {
   "cell_type": "code",
   "execution_count": 16,
   "metadata": {},
   "outputs": [
    {
     "name": "stdout",
     "output_type": "stream",
     "text": [
      "information_type\n",
      "Coverage                    111\n",
      "Benefits                    100\n",
      "Diversification/security     88\n",
      "Contributions                77\n",
      "Taxes                        51\n",
      "Fees                         19\n",
      "Name: count, dtype: int64\n"
     ]
    },
    {
     "data": {
      "image/png": "[encoded data removed]",
      "text/plain": [
       "<Figure size 640x480 with 1 Axes>"
      ]
     },
     "metadata": {},
     "output_type": "display_data"
    }
   ],
   "source": [
    "x = data['information_type'].value_counts()\n",
    "print(x)\n",
    "sns.barplot(x=x.values, y=x.index, palette='Blues')\n",
    "\n",
    "# Adding labels and title for clarity\n",
    "plt.xlabel('Label')\n",
    "plt.ylabel('Count')\n",
    "plt.title('Distribution of Labels in Training Data')\n",
    "plt.show()"
   ]
  },
  {
   "cell_type": "markdown",
   "metadata": {},
   "source": [
    "**Number of words in a text:**\n",
    "The average number of words in coverage reforms is 53.76 as compared to an average of 31.58 words in fees reforms"
   ]
  },
  {
   "cell_type": "code",
   "execution_count": 17,
   "metadata": {},
   "outputs": [
    {
     "name": "stdout",
     "output_type": "stream",
     "text": [
      "53.765765765765764\n",
      "49.84\n",
      "46.67045454545455\n",
      "50.77922077922078\n",
      "38.450980392156865\n",
      "31.57894736842105\n",
      "Coverage reforms are more wordy than the others, and Fees reforms are the least wordy\n",
      "350.1621621621622\n",
      "308.17\n",
      "316.375\n",
      "310.90909090909093\n",
      "242.6078431372549\n",
      "206.31578947368422\n",
      "Coverage reforms are longer than the others, and Fees reforms are shorter\n",
      "40.288288288288285\n",
      "37.23\n",
      "35.06818181818182\n",
      "36.05194805194805\n",
      "30.372549019607842\n",
      "26.473684210526315\n",
      "Coverage reforms have more unique words than the other groups, and Fees reforms have the least unique words\n"
     ]
    }
   ],
   "source": [
    "#1.  WORD-COUNT\n",
    "data['word_count'] = data['text'].apply(lambda x: len(str(x).split()))\n",
    "print(data[data['information_type']==\"Coverage\"]['word_count'].mean()) \n",
    "print(data[data['information_type']==\"Benefits\"]['word_count'].mean()) \n",
    "print(data[data['information_type']==\"Diversification/security\"]['word_count'].mean()) \n",
    "print(data[data['information_type']==\"Contributions\"]['word_count'].mean()) \n",
    "print(data[data['information_type']==\"Taxes\"]['word_count'].mean()) \n",
    "print(data[data['information_type']==\"Fees\"]['word_count'].mean()) \n",
    "\n",
    "print(\"Coverage reforms are more wordy than the others, and Fees reforms are the least wordy\")\n",
    "\n",
    "#2. CHARACTER-COUNT\n",
    "data['char_count'] = data['text'].apply(lambda x: len(str(x)))\n",
    "print(data[data['information_type']==\"Coverage\"]['char_count'].mean())\n",
    "print(data[data['information_type']==\"Benefits\"]['char_count'].mean())\n",
    "print(data[data['information_type']==\"Diversification/security\"]['char_count'].mean())\n",
    "print(data[data['information_type']==\"Contributions\"]['char_count'].mean())\n",
    "print(data[data['information_type']==\"Taxes\"]['char_count'].mean())\n",
    "print(data[data['information_type']==\"Fees\"]['char_count'].mean())\n",
    "\n",
    "print(\"Coverage reforms are longer than the others, and Fees reforms are shorter\")\n",
    "\n",
    "#3. UNIQUE WORD-COUNT\n",
    "data['unique_word_count'] = data['text'].apply(lambda x: len(set(str(x).split())))\n",
    "print(data[data['information_type']==\"Coverage\"]['unique_word_count'].mean()) \n",
    "print(data[data['information_type']==\"Benefits\"]['unique_word_count'].mean()) \n",
    "print(data[data['information_type']==\"Diversification/security\"]['unique_word_count'].mean()) \n",
    "print(data[data['information_type']==\"Contributions\"]['unique_word_count'].mean()) \n",
    "print(data[data['information_type']==\"Taxes\"]['unique_word_count'].mean()) \n",
    "print(data[data['information_type']==\"Fees\"]['unique_word_count'].mean()) \n",
    "print(\"Coverage reforms have more unique words than the other groups, and Fees reforms have the least unique words\")"
   ]
  },
  {
   "cell_type": "code",
   "execution_count": 18,
   "metadata": {},
   "outputs": [
    {
     "data": {
      "image/png": "[encoded data removed]",
      "text/plain": [
       "<Figure size 1000x400 with 2 Axes>"
      ]
     },
     "metadata": {},
     "output_type": "display_data"
    }
   ],
   "source": [
    "# Create a custom color palette using the 'Blues' palette from Seaborn\n",
    "custom_colors = sns.color_palette(\"Blues\", 5)\n",
    "\n",
    "# Plotting word-count per news headline with a shared y-axis\n",
    "fig, (ax1, ax2) = plt.subplots(1, 2, figsize=(10, 4), sharey=True)\n",
    "\n",
    "# Use the same colors from the custom palette\n",
    "# Assuming the colors you want to use are the first two in the custom_colors\n",
    "train_words_fake = data[data['information_type'] == \"Coverage\"]['word_count']\n",
    "ax1.hist(train_words_fake, color=custom_colors[2])  # Using another shade\n",
    "ax1.set_title('Coverage')\n",
    "\n",
    "train_words_real = data[data['information_type'] == \"Fees\"]['word_count']\n",
    "ax2.hist(train_words_real, color=custom_colors[1])  # Using a specific shade of blue\n",
    "ax2.set_title('Fees')\n",
    "\n",
    "# Common y-axis label\n",
    "ax1.set_ylabel('Frequency')\n",
    "\n",
    "fig.suptitle('Words per reform description')\n",
    "\n",
    "plt.show()"
   ]
  },
  {
   "cell_type": "markdown",
   "metadata": {},
   "source": [
    "# Step 3: Text Pre-Processing"
   ]
  },
  {
   "cell_type": "code",
   "execution_count": 19,
   "metadata": {},
   "outputs": [],
   "source": [
    "#convert to lowercase, strip and remove punctuations\n",
    "def preprocess(text):\n",
    "    text = text.lower() #lowercase text \n",
    "    text = text.strip() #get rid of leading/trailing whitespaces \n",
    "    text = re.compile('<.*?>').sub('', text) #remove HTML tags/markups\n",
    "    text = re.compile('[%s]' % re.escape(string.punctuation)).sub(' ', text)  #Replace punctuation with space. Careful since punctuation can sometime be useful\n",
    "    text = re.sub('\\s+', ' ', text)  #Remove extra space and tabs\n",
    "    text = re.sub(r'\\[[0-9]*\\]',' ',text) #[0-9] matches any digit (0 to 10000...)\n",
    "    text = re.sub(r'[^\\w\\s]', '', str(text).lower().strip()) #Remove not alphanumeric symbols white spaces\n",
    "    text = re.sub(r'\\d',' ',text) #matches any digit from 0 to 100000..., \\D matches non-digits\n",
    "    text = re.sub(r'\\s+',' ',text) #\\s matches any whitespace, \\s+ matches multiple whitespace, \\S matches non-whitespace \n",
    "    \n",
    "    return text\n",
    "\n",
    " \n",
    "# STOPWORD REMOVAL\n",
    "def stopword(string):\n",
    "    a= [i for i in string.split() if i not in stopwords.words('english')]\n",
    "    return ' '.join(a)\n",
    "\n",
    "# STEMMING\n",
    "# Initialize the stemmer\n",
    "snow = SnowballStemmer('english')\n",
    "def stemming(string):\n",
    "    a=[snow.stem(i) for i in word_tokenize(string)]\n",
    "    return \" \".join(a)\n",
    "\n",
    "#LEMMATIZATION\n",
    "# Initialize the lemmatizer\n",
    "wl = WordNetLemmatizer()\n",
    " \n",
    "# This is a helper function to map NTLK position tags\n",
    "# Full list is available here: https://www.ling.upenn.edu/courses/Fall_2003/ling001/penn_treebank_pos.html\n",
    "def get_wordnet_pos(tag):\n",
    "    if tag.startswith('J'):\n",
    "        return wordnet.ADJ\n",
    "    elif tag.startswith('V'):\n",
    "        return wordnet.VERB\n",
    "    elif tag.startswith('N'):\n",
    "        return wordnet.NOUN\n",
    "    elif tag.startswith('R'):\n",
    "        return wordnet.ADV\n",
    "    else:\n",
    "        return wordnet.NOUN\n",
    "\n",
    "# Tokenize the sentence\n",
    "def lemmatizer(string):\n",
    "    word_pos_tags = nltk.pos_tag(word_tokenize(string)) # Get position tags\n",
    "    a=[wl.lemmatize(tag[0], get_wordnet_pos(tag[1])) for idx, tag in enumerate(word_pos_tags)] # Map the position tag and lemmatize the word/token\n",
    "    return \" \".join(a)"
   ]
  },
  {
   "cell_type": "markdown",
   "metadata": {},
   "source": [
    "Final pre-processing"
   ]
  },
  {
   "cell_type": "code",
   "execution_count": 20,
   "metadata": {},
   "outputs": [
    {
     "data": {
      "text/html": [
       "<div>\n",
       "<style scoped>\n",
       "    .dataframe tbody tr th:only-of-type {\n",
       "        vertical-align: middle;\n",
       "    }\n",
       "\n",
       "    .dataframe tbody tr th {\n",
       "        vertical-align: top;\n",
       "    }\n",
       "\n",
       "    .dataframe thead th {\n",
       "        text-align: right;\n",
       "    }\n",
       "</style>\n",
       "<table border=\"1\" class=\"dataframe\">\n",
       "  <thead>\n",
       "    <tr style=\"text-align: right;\">\n",
       "      <th></th>\n",
       "      <th>country</th>\n",
       "      <th>year</th>\n",
       "      <th>year-country</th>\n",
       "      <th>information_type</th>\n",
       "      <th>text</th>\n",
       "      <th>expanding_measures</th>\n",
       "      <th>contracting_measures</th>\n",
       "      <th>clean_text</th>\n",
       "    </tr>\n",
       "  </thead>\n",
       "  <tbody>\n",
       "    <tr>\n",
       "      <th>0</th>\n",
       "      <td>Switzerland</td>\n",
       "      <td>1946.0</td>\n",
       "      <td>1946-Switzerland</td>\n",
       "      <td>Benefits</td>\n",
       "      <td>Federal Law of 20 December on old-age and surv...</td>\n",
       "      <td>1</td>\n",
       "      <td>0.0</td>\n",
       "      <td>federal law december old age survivor insurance</td>\n",
       "    </tr>\n",
       "    <tr>\n",
       "      <th>1</th>\n",
       "      <td>Luxembourg</td>\n",
       "      <td>1967.0</td>\n",
       "      <td>1967-Luxembourg</td>\n",
       "      <td>Taxes</td>\n",
       "      <td>Article 111bis of the amended Law on Revenue T...</td>\n",
       "      <td>0</td>\n",
       "      <td>1.0</td>\n",
       "      <td>article bi amend law revenue taxation concern ...</td>\n",
       "    </tr>\n",
       "    <tr>\n",
       "      <th>2</th>\n",
       "      <td>Germany</td>\n",
       "      <td>1974.0</td>\n",
       "      <td>1974-Germany</td>\n",
       "      <td>Coverage</td>\n",
       "      <td>The Gesetz zur Verbesserung der betrieblichen ...</td>\n",
       "      <td>1</td>\n",
       "      <td>0.0</td>\n",
       "      <td>gesetz zur verbesserung der betrieblichen alte...</td>\n",
       "    </tr>\n",
       "    <tr>\n",
       "      <th>3</th>\n",
       "      <td>Iceland</td>\n",
       "      <td>1974.0</td>\n",
       "      <td>1974-Iceland</td>\n",
       "      <td>Coverage</td>\n",
       "      <td>The mandatory pension fund system was introduc...</td>\n",
       "      <td>1</td>\n",
       "      <td>0.0</td>\n",
       "      <td>mandatory pension fund system introduce self e...</td>\n",
       "    </tr>\n",
       "    <tr>\n",
       "      <th>4</th>\n",
       "      <td>United States</td>\n",
       "      <td>1974.0</td>\n",
       "      <td>1974-United States</td>\n",
       "      <td>Coverage</td>\n",
       "      <td>The Employee Retirement Income Security Act (E...</td>\n",
       "      <td>1</td>\n",
       "      <td>0.0</td>\n",
       "      <td>employee retirement income security act erisa ...</td>\n",
       "    </tr>\n",
       "  </tbody>\n",
       "</table>\n",
       "</div>"
      ],
      "text/plain": [
       "         country    year        year-country information_type  \\\n",
       "0    Switzerland  1946.0    1946-Switzerland         Benefits   \n",
       "1     Luxembourg  1967.0     1967-Luxembourg            Taxes   \n",
       "2        Germany  1974.0        1974-Germany         Coverage   \n",
       "3        Iceland  1974.0        1974-Iceland         Coverage   \n",
       "4  United States  1974.0  1974-United States         Coverage   \n",
       "\n",
       "                                                text expanding_measures  \\\n",
       "0  Federal Law of 20 December on old-age and surv...                  1   \n",
       "1  Article 111bis of the amended Law on Revenue T...                  0   \n",
       "2  The Gesetz zur Verbesserung der betrieblichen ...                  1   \n",
       "3  The mandatory pension fund system was introduc...                  1   \n",
       "4  The Employee Retirement Income Security Act (E...                  1   \n",
       "\n",
       "   contracting_measures                                         clean_text  \n",
       "0                   0.0    federal law december old age survivor insurance  \n",
       "1                   1.0  article bi amend law revenue taxation concern ...  \n",
       "2                   0.0  gesetz zur verbesserung der betrieblichen alte...  \n",
       "3                   0.0  mandatory pension fund system introduce self e...  \n",
       "4                   0.0  employee retirement income security act erisa ...  "
      ]
     },
     "execution_count": 20,
     "metadata": {},
     "output_type": "execute_result"
    }
   ],
   "source": [
    "def finalpreprocess(string):\n",
    "    return lemmatizer(stopword(preprocess(string)))\n",
    "\n",
    "data['clean_text'] = data['text'].apply(lambda x: finalpreprocess(x))\n",
    "data = data.drop(columns=['word_count', 'char_count', 'unique_word_count'])\n",
    "data.head()"
   ]
  },
  {
   "cell_type": "markdown",
   "metadata": {},
   "source": [
    "## Word2Vec Model"
   ]
  },
  {
   "cell_type": "code",
   "execution_count": 21,
   "metadata": {},
   "outputs": [],
   "source": [
    "# create Word2vec model\n",
    "#here words_f should be a list containing words from each document. say 1st row of the list is words from the 1st document/sentence\n",
    "#length of words_f is number of documents/sentences in your dataset\n",
    "\n",
    "# Extracting the Word2Vec dictionary from the model\n",
    "data['clean_text_tok']=[nltk.word_tokenize(i) for i in data['clean_text']] #convert preprocessed sentence to tokenized sentence\n",
    "\n",
    "# Building the Word2Vec model\n",
    "model = Word2Vec(data['clean_text_tok'],min_count=1) #min_count=1 means word should be present at least across all documents,    \n",
    "#if min_count=2 means if the word is present less than 2 times across all the documents then we shouldn't consider it\n",
    "\n",
    "# Use model.wv.index_to_key instead of model.wv.index2word\n",
    "w2v = dict(zip(model.wv.index_to_key, model.wv.vectors)) #combination of word and its vector\n"
   ]
  },
  {
   "cell_type": "code",
   "execution_count": 22,
   "metadata": {},
   "outputs": [],
   "source": [
    "#building Word2Vec model\n",
    "class MeanEmbeddingVectorizer(object):\n",
    "        def __init__(self, word2vec):\n",
    "                self.word2vec = word2vec\n",
    "                # if a text is empty we should return a vector of zeros\n",
    "                # with the same dimensionality as all the other vectors\n",
    "                self.dim = len(next(iter(word2vec.values())))\n",
    "\n",
    "        def fit(self, X, y):\n",
    "                return self\n",
    "        \n",
    "        def transform(self, X):\n",
    "                return np.array([\n",
    "                        np.mean([self.word2vec[w] for w in words if w in self.word2vec] or [np.zeros(self.dim)], axis=0)\n",
    "                        for words in X\n",
    "                ])"
   ]
  },
  {
   "cell_type": "markdown",
   "metadata": {},
   "source": [
    "# Step 4: Extracting vectors from text (Vectorization)"
   ]
  },
  {
   "cell_type": "code",
   "execution_count": 23,
   "metadata": {},
   "outputs": [],
   "source": [
    "data['information_type'] = data['information_type'].map({'Coverage': 1, 'Benefits': 2, 'Diversification/security': 3, 'Contributions': 4, 'Taxes': 5, 'Fees': 6})"
   ]
  },
  {
   "cell_type": "code",
   "execution_count": 24,
   "metadata": {},
   "outputs": [],
   "source": [
    "#SPLITTING THE TRAINING DATASET INTO TRAIN AND TEST\n",
    "X_train, X_test, y_train, y_test = train_test_split(data[\"clean_text\"],\n",
    "                                                    data[\"information_type\"],\n",
    "                                                    test_size=0.2,\n",
    "                                                    shuffle=True)"
   ]
  },
  {
   "cell_type": "code",
   "execution_count": 25,
   "metadata": {},
   "outputs": [],
   "source": [
    "#Word2Vec\n",
    "# Word2Vec runs on tokenized sentences\n",
    "X_train_tok= [nltk.word_tokenize(i) for i in X_train]  \n",
    "X_test_tok= [nltk.word_tokenize(i) for i in X_test]"
   ]
  },
  {
   "cell_type": "markdown",
   "metadata": {},
   "source": [
    "Bag-of-Words (with TF-IDF ) and Word2Vec"
   ]
  },
  {
   "cell_type": "code",
   "execution_count": 26,
   "metadata": {},
   "outputs": [],
   "source": [
    "#for word embedding\n",
    "import gensim.downloader as gensim_api \n",
    "import gensim \n",
    "from gensim.models import Word2Vec"
   ]
  },
  {
   "cell_type": "code",
   "execution_count": 27,
   "metadata": {},
   "outputs": [],
   "source": [
    "#TF-IDF\n",
    "# Convert x_train to vector since model can only run on numbers and not words- Fit and transform\n",
    "tfidf_vectorizer = TfidfVectorizer(use_idf=True)\n",
    "X_train_vectors_tfidf = tfidf_vectorizer.fit_transform(X_train) #tfidf runs on non-tokenized sentences unlike word2vec\n",
    "\n",
    "# Only transform x_test (not fit and transform)\n",
    "X_test_vectors_tfidf = tfidf_vectorizer.transform(X_test) \n",
    "#Don't fit() your TfidfVectorizer to your test data: it will change the word-indexes & weights to match test data. \n",
    "# Rather, fit on the training data, then use the same train-data-fit model on the test data, \n",
    "# to reflect the fact you're analyzing the test data only based on what was learned without \n",
    "# it, and the have compatible array shapes"
   ]
  },
  {
   "cell_type": "code",
   "execution_count": 28,
   "metadata": {},
   "outputs": [],
   "source": [
    "# Using MeanEmbeddingVectorizer\n",
    "modelw = MeanEmbeddingVectorizer(w2v)\n",
    "\n",
    "# Convert to vectors\n",
    "X_train_vectors_w2v = modelw.transform(X_train_tok)\n",
    "X_test_vectors_w2v = modelw.transform(X_test_tok)"
   ]
  },
  {
   "cell_type": "markdown",
   "metadata": {},
   "source": [
    "# Step 5. Running ML algorithms"
   ]
  },
  {
   "cell_type": "markdown",
   "metadata": {},
   "source": [
    "## 1. Logistic regression (tf-idf)"
   ]
  },
  {
   "cell_type": "code",
   "execution_count": 29,
   "metadata": {},
   "outputs": [
    {
     "name": "stdout",
     "output_type": "stream",
     "text": [
      "Classification Report\n",
      "              precision    recall  f1-score   support\n",
      "\n",
      "           1       0.68      0.64      0.66        33\n",
      "           2       0.47      0.57      0.52        14\n",
      "           3       0.40      0.47      0.43        17\n",
      "           4       0.64      0.69      0.67        13\n",
      "           5       0.83      0.56      0.67         9\n",
      "           6       1.00      0.50      0.67         4\n",
      "\n",
      "    accuracy                           0.59        90\n",
      "   macro avg       0.67      0.57      0.60        90\n",
      "weighted avg       0.62      0.59      0.60        90\n",
      "\n",
      "Confusion Matrix: [[21  3  8  1  0  0]\n",
      " [ 1  8  1  3  1  0]\n",
      " [ 6  2  8  1  0  0]\n",
      " [ 1  2  1  9  0  0]\n",
      " [ 2  2  0  0  5  0]\n",
      " [ 0  0  2  0  0  2]]\n"
     ]
    }
   ],
   "source": [
    "#Fitting the classification model using Logistic Regression(tf-idf)\n",
    "lr_tfidf=LogisticRegression(solver = 'liblinear', C=10, penalty = 'l2')\n",
    "lr_tfidf.fit(X_train_vectors_tfidf, y_train)  #model\n",
    "\n",
    "#Predict y value for test dataset\n",
    "y_predict = lr_tfidf.predict(X_test_vectors_tfidf)\n",
    "y_prob = lr_tfidf.predict_proba(X_test_vectors_tfidf)[:,1]\n",
    "\n",
    "print(\"Classification Report\")\n",
    "print(classification_report(y_test,y_predict))\n",
    "\n",
    "print('Confusion Matrix:',confusion_matrix(y_test, y_predict))"
   ]
  },
  {
   "cell_type": "code",
   "execution_count": 30,
   "metadata": {},
   "outputs": [],
   "source": [
    "from sklearn.metrics import confusion_matrix, ConfusionMatrixDisplay"
   ]
  },
  {
   "cell_type": "code",
   "execution_count": 41,
   "metadata": {},
   "outputs": [
    {
     "data": {
      "image/png": "[encoded data removed]",
      "text/plain": [
       "<Figure size 800x600 with 2 Axes>"
      ]
     },
     "metadata": {},
     "output_type": "display_data"
    }
   ],
   "source": [
    "class_names = ['Coverage','Benefits', 'Diversification', 'Contributions', 'Taxes', 'Fees']\n",
    "# Compute the confusion matrix\n",
    "conf_matrix = confusion_matrix(y_test, y_predict)\n",
    "\n",
    "# Plot confusion matrix with Seaborn heatmap\n",
    "plt.figure(figsize=(8, 6))\n",
    "sns.heatmap(conf_matrix, annot=True, fmt=\"d\", cmap=\"Blues\", xticklabels=class_names, yticklabels=class_names)\n",
    "plt.xlabel(\"Predicted Label\")\n",
    "plt.ylabel(\"True Label\")\n",
    "plt.title(\"Confusion Matrix\")\n",
    "plt.show()"
   ]
  },
  {
   "cell_type": "markdown",
   "metadata": {},
   "source": [
    "## 2. Naive Bayes (tf-idf)"
   ]
  },
  {
   "cell_type": "code",
   "execution_count": 32,
   "metadata": {},
   "outputs": [
    {
     "name": "stdout",
     "output_type": "stream",
     "text": [
      "              precision    recall  f1-score   support\n",
      "\n",
      "           1       0.67      0.67      0.67        33\n",
      "           2       0.39      0.86      0.53        14\n",
      "           3       0.44      0.41      0.42        17\n",
      "           4       0.78      0.54      0.64        13\n",
      "           5       1.00      0.11      0.20         9\n",
      "           6       0.00      0.00      0.00         4\n",
      "\n",
      "    accuracy                           0.54        90\n",
      "   macro avg       0.54      0.43      0.41        90\n",
      "weighted avg       0.60      0.54      0.52        90\n",
      "\n",
      "Confusion Matrix: [[22  8  3  0  0  0]\n",
      " [ 1 12  1  0  0  0]\n",
      " [ 6  3  7  1  0  0]\n",
      " [ 1  4  1  7  0  0]\n",
      " [ 3  4  0  1  1  0]\n",
      " [ 0  0  4  0  0  0]]\n"
     ]
    }
   ],
   "source": [
    "#Fitting the classification model using Naive Bayes(tf-idf)\n",
    "# ==============================================\n",
    "#It's a probabilistic classifier that makes use of Bayes' Theorem, \n",
    "# a rule that uses probability to make predictions based on \n",
    "# prior knowledge of conditions that might be related. \n",
    "# This algorithm is the most suitable for such large dataset as \n",
    "# it considers each feature independently, \n",
    "# calculates the probability of each category, \n",
    "# and then predicts the category with the highest probability.\n",
    "\n",
    "nb_tfidf = MultinomialNB()\n",
    "nb_tfidf.fit(X_train_vectors_tfidf, y_train)  \n",
    "\n",
    "#Predict y value for test dataset\n",
    "y_predict = nb_tfidf.predict(X_test_vectors_tfidf)\n",
    "y_prob = nb_tfidf.predict_proba(X_test_vectors_tfidf)[:,1]\n",
    "\n",
    "print(classification_report(y_test,y_predict))\n",
    "print('Confusion Matrix:',confusion_matrix(y_test, y_predict))"
   ]
  },
  {
   "cell_type": "code",
   "execution_count": 42,
   "metadata": {},
   "outputs": [
    {
     "data": {
      "image/png": "[encoded data removed]",
      "text/plain": [
       "<Figure size 800x600 with 2 Axes>"
      ]
     },
     "metadata": {},
     "output_type": "display_data"
    }
   ],
   "source": [
    "# Compute the confusion matrix\n",
    "conf_matrix = confusion_matrix(y_test, y_predict)\n",
    "\n",
    "# Plot confusion matrix with Seaborn heatmap\n",
    "plt.figure(figsize=(8, 6))\n",
    "sns.heatmap(conf_matrix, annot=True, fmt=\"d\", cmap=\"Blues\", xticklabels=class_names, yticklabels=class_names)\n",
    "plt.xlabel(\"Predicted Label\")\n",
    "plt.ylabel(\"True Label\")\n",
    "plt.title(\"Confusion Matrix\")\n",
    "plt.show()"
   ]
  },
  {
   "cell_type": "markdown",
   "metadata": {},
   "source": [
    "## 3.LR (w2v)"
   ]
  },
  {
   "cell_type": "code",
   "execution_count": 34,
   "metadata": {},
   "outputs": [
    {
     "name": "stdout",
     "output_type": "stream",
     "text": [
      "              precision    recall  f1-score   support\n",
      "\n",
      "           1       0.00      0.00      0.00        33\n",
      "           2       0.20      0.64      0.31        14\n",
      "           3       0.21      0.41      0.27        17\n",
      "           4       0.33      0.31      0.32        13\n",
      "           5       0.00      0.00      0.00         9\n",
      "           6       0.00      0.00      0.00         4\n",
      "\n",
      "    accuracy                           0.22        90\n",
      "   macro avg       0.12      0.23      0.15        90\n",
      "weighted avg       0.12      0.22      0.15        90\n",
      "\n",
      "Confusion Matrix: [[ 0 16 14  3  0  0]\n",
      " [ 0  9  4  1  0  0]\n",
      " [ 0  9  7  1  0  0]\n",
      " [ 0  5  4  4  0  0]\n",
      " [ 0  4  2  3  0  0]\n",
      " [ 0  1  3  0  0  0]]\n"
     ]
    }
   ],
   "source": [
    "#Fitting the classification model using Logistic Regression (W2v)\n",
    "lr_w2v=LogisticRegression(solver = 'liblinear', C=10, penalty = 'l2')\n",
    "lr_w2v.fit(X_train_vectors_w2v, y_train)  #model\n",
    "\n",
    "#Predict y value for test dataset\n",
    "y_predict = lr_w2v.predict(X_test_vectors_w2v)\n",
    "y_prob = lr_w2v.predict_proba(X_test_vectors_w2v)[:,1]\n",
    " \n",
    "\n",
    "print(classification_report(y_test,y_predict))\n",
    "print('Confusion Matrix:',confusion_matrix(y_test, y_predict))"
   ]
  },
  {
   "cell_type": "code",
   "execution_count": 43,
   "metadata": {},
   "outputs": [
    {
     "data": {
      "image/png": "[encoded data removed]",
      "text/plain": [
       "<Figure size 800x600 with 2 Axes>"
      ]
     },
     "metadata": {},
     "output_type": "display_data"
    }
   ],
   "source": [
    "# Compute the confusion matrix\n",
    "conf_matrix = confusion_matrix(y_test, y_predict)\n",
    "\n",
    "# Plot confusion matrix with Seaborn heatmap\n",
    "plt.figure(figsize=(8, 6))\n",
    "sns.heatmap(conf_matrix, annot=True, fmt=\"d\", cmap=\"Blues\", xticklabels=class_names, yticklabels=class_names)\n",
    "plt.xlabel(\"Predicted Label\")\n",
    "plt.ylabel(\"True Label\")\n",
    "plt.title(\"Confusion Matrix\")\n",
    "plt.show()"
   ]
  },
  {
   "cell_type": "markdown",
   "metadata": {},
   "source": [
    "## 4. RandomForest"
   ]
  },
  {
   "cell_type": "code",
   "execution_count": 36,
   "metadata": {},
   "outputs": [],
   "source": [
    "from sklearn.model_selection import cross_val_score # K-Folds cross validation"
   ]
  },
  {
   "cell_type": "code",
   "execution_count": 37,
   "metadata": {},
   "outputs": [],
   "source": [
    "# Implement RandomForest Classifier with additional parameters\n",
    "randomclassifier = RandomForestClassifier(n_estimators=200, criterion='entropy', max_depth=10, random_state=42)\n",
    "\n",
    "# n_estimators: number of trees in the forest\n",
    "# criterion: function to measure the quality of a split. Entropy is the measure of impurity\n",
    "# max_depth: maximum depth of the tree\n",
    "# random_state: seed for random number generator"
   ]
  },
  {
   "cell_type": "code",
   "execution_count": 38,
   "metadata": {},
   "outputs": [
    {
     "name": "stdout",
     "output_type": "stream",
     "text": [
      "              precision    recall  f1-score   support\n",
      "\n",
      "           1       0.65      0.61      0.62        33\n",
      "           2       0.33      0.64      0.44        14\n",
      "           3       0.35      0.35      0.35        17\n",
      "           4       0.70      0.54      0.61        13\n",
      "           5       0.75      0.33      0.46         9\n",
      "           6       1.00      0.25      0.40         4\n",
      "\n",
      "    accuracy                           0.51        90\n",
      "   macro avg       0.63      0.45      0.48        90\n",
      "weighted avg       0.58      0.51      0.52        90\n",
      "\n",
      "Confusion Matrix: [[20  6  6  1  0  0]\n",
      " [ 2  9  0  2  1  0]\n",
      " [ 7  4  6  0  0  0]\n",
      " [ 1  4  1  7  0  0]\n",
      " [ 1  4  1  0  3  0]\n",
      " [ 0  0  3  0  0  1]]\n"
     ]
    }
   ],
   "source": [
    "# Fit the model on the training data\n",
    "randomclassifier.fit(X_train_vectors_tfidf, y_train)\n",
    "\n",
    "# Predict y values for the test dataset\n",
    "y_predict = randomclassifier.predict(X_test_vectors_tfidf)\n",
    "y_prob = randomclassifier.predict_proba(X_test_vectors_tfidf)[:, 1]\n",
    "\n",
    "# Print classification report and confusion matrix\n",
    "print(classification_report(y_test, y_predict))\n",
    "print('Confusion Matrix:', confusion_matrix(y_test, y_predict))"
   ]
  },
  {
   "cell_type": "code",
   "execution_count": 44,
   "metadata": {},
   "outputs": [
    {
     "data": {
      "image/png": "[encoded data removed]",
      "text/plain": [
       "<Figure size 800x600 with 2 Axes>"
      ]
     },
     "metadata": {},
     "output_type": "display_data"
    }
   ],
   "source": [
    "# Compute the confusion matrix\n",
    "conf_matrix = confusion_matrix(y_test, y_predict)\n",
    "\n",
    "# Plot confusion matrix with Seaborn heatmap\n",
    "plt.figure(figsize=(8, 6))\n",
    "sns.heatmap(conf_matrix, annot=True, fmt=\"d\", cmap=\"Blues\", xticklabels=class_names, yticklabels=class_names)\n",
    "plt.xlabel(\"Predicted Label\")\n",
    "plt.ylabel(\"True Label\")\n",
    "plt.title(\"Confusion Matrix\")\n",
    "plt.show()"
   ]
  },
  {
   "cell_type": "markdown",
   "metadata": {},
   "source": [
    "### Cross-Validation"
   ]
  },
  {
   "cell_type": "code",
   "execution_count": 40,
   "metadata": {},
   "outputs": [
    {
     "name": "stdout",
     "output_type": "stream",
     "text": [
      "Cross-validation scores for each fold: [0.55555556 0.56338028 0.56338028 0.73239437 0.63380282]\n",
      "Mean cross-validation accuracy: 0.6097026604068858\n"
     ]
    }
   ],
   "source": [
    "# Perform cross-validation\n",
    "# cv=5 denotes using 5 folds\n",
    "cv_scores = cross_val_score(randomclassifier, X_train_vectors_tfidf, y_train, cv=5, scoring='accuracy')\n",
    "\n",
    "# Print out the cross-validation scores and the mean score\n",
    "print(\"Cross-validation scores for each fold:\", cv_scores)\n",
    "print(\"Mean cross-validation accuracy:\", np.mean(cv_scores))"
   ]
  }
 ],
 "metadata": {
  "kernelspec": {
   "display_name": "base",
   "language": "python",
   "name": "python3"
  },
  "language_info": {
   "codemirror_mode": {
    "name": "ipython",
    "version": 3
   },
   "file_extension": ".py",
   "mimetype": "text/x-python",
   "name": "python",
   "nbconvert_exporter": "python",
   "pygments_lexer": "ipython3",
   "version": "3.12.2"
  }
 },
 "nbformat": 4,
 "nbformat_minor": 2
}
